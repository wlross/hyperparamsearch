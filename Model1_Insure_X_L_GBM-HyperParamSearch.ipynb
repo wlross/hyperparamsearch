{
 "cells": [
  {
   "cell_type": "code",
   "execution_count": 18,
   "metadata": {},
   "outputs": [
    {
     "name": "stderr",
     "output_type": "stream",
     "text": [
      "//anaconda3/lib/python3.7/site-packages/lightgbm/__init__.py:46: UserWarning: Starting from version 2.2.1, the library file in distribution wheels for macOS is built by the Apple Clang (Xcode_8.3.3) compiler.\n",
      "This means that in case of installing LightGBM from PyPI via the ``pip install lightgbm`` command, you don't need to install the gcc compiler anymore.\n",
      "Instead of that, you need to install the OpenMP library, which is required for running LightGBM on the system with the Apple Clang compiler.\n",
      "You can install the OpenMP library by the following command: ``brew install libomp``.\n",
      "  \"You can install the OpenMP library by the following command: ``brew install libomp``.\", UserWarning)\n"
     ]
    }
   ],
   "source": [
    "#import packages for data (pandas/numpy), optimization (gurobipy), gradient boost(xgbm,lgbm), explainability (shap)\n",
    "import pandas as pd\n",
    "import numpy as np\n",
    "from gurobipy import *\n",
    "import lightgbm as lgb\n",
    "import xgboost as xgb\n",
    "import shap\n"
   ]
  },
  {
   "cell_type": "code",
   "execution_count": 19,
   "metadata": {},
   "outputs": [],
   "source": [
    "#import data for LGBM/XGBM\n",
    "TrainData = pd.read_excel(\"P_C_BOP_CleanInsureData.xlsx\", sheet_name = \"Train_Set\", index_col=0)\n",
    "TestData = pd.read_excel(\"P_C_BOP_CleanInsureData.xlsx\", sheet_name = \"Test_Set\", index_col=0)\n"
   ]
  },
  {
   "cell_type": "code",
   "execution_count": 20,
   "metadata": {},
   "outputs": [
    {
     "data": {
      "text/html": [
       "<div>\n",
       "<style scoped>\n",
       "    .dataframe tbody tr th:only-of-type {\n",
       "        vertical-align: middle;\n",
       "    }\n",
       "\n",
       "    .dataframe tbody tr th {\n",
       "        vertical-align: top;\n",
       "    }\n",
       "\n",
       "    .dataframe thead th {\n",
       "        text-align: right;\n",
       "    }\n",
       "</style>\n",
       "<table border=\"1\" class=\"dataframe\">\n",
       "  <thead>\n",
       "    <tr style=\"text-align: right;\">\n",
       "      <th></th>\n",
       "      <th>Prod_ID</th>\n",
       "      <th>State</th>\n",
       "      <th>Agency_Yr</th>\n",
       "      <th>Agency_Life</th>\n",
       "      <th>Employ_Cnt</th>\n",
       "      <th>Max_Age</th>\n",
       "      <th>Min_Age</th>\n",
       "      <th>Prd_Ernd_Prem</th>\n",
       "      <th>3Yr_LossRatio</th>\n",
       "      <th>Prd_Incrd_Loss</th>\n",
       "      <th>Loss_Ratio</th>\n",
       "    </tr>\n",
       "    <tr>\n",
       "      <th>AgencyUID</th>\n",
       "      <th></th>\n",
       "      <th></th>\n",
       "      <th></th>\n",
       "      <th></th>\n",
       "      <th></th>\n",
       "      <th></th>\n",
       "      <th></th>\n",
       "      <th></th>\n",
       "      <th></th>\n",
       "      <th></th>\n",
       "      <th></th>\n",
       "    </tr>\n",
       "  </thead>\n",
       "  <tbody>\n",
       "    <tr>\n",
       "      <th>1</th>\n",
       "      <td>BOP</td>\n",
       "      <td>IN</td>\n",
       "      <td>1998</td>\n",
       "      <td>22</td>\n",
       "      <td>56</td>\n",
       "      <td>87</td>\n",
       "      <td>36</td>\n",
       "      <td>570.36</td>\n",
       "      <td>0.285437</td>\n",
       "      <td>0.00</td>\n",
       "      <td>0.00000</td>\n",
       "    </tr>\n",
       "    <tr>\n",
       "      <th>2</th>\n",
       "      <td>BOP</td>\n",
       "      <td>IN</td>\n",
       "      <td>1970</td>\n",
       "      <td>50</td>\n",
       "      <td>14</td>\n",
       "      <td>89</td>\n",
       "      <td>32</td>\n",
       "      <td>2842.47</td>\n",
       "      <td>1.215365</td>\n",
       "      <td>0.00</td>\n",
       "      <td>0.00000</td>\n",
       "    </tr>\n",
       "    <tr>\n",
       "      <th>3</th>\n",
       "      <td>BOP</td>\n",
       "      <td>IN</td>\n",
       "      <td>1970</td>\n",
       "      <td>50</td>\n",
       "      <td>14</td>\n",
       "      <td>89</td>\n",
       "      <td>32</td>\n",
       "      <td>2868.84</td>\n",
       "      <td>0.438894</td>\n",
       "      <td>1381.46</td>\n",
       "      <td>0.48154</td>\n",
       "    </tr>\n",
       "  </tbody>\n",
       "</table>\n",
       "</div>"
      ],
      "text/plain": [
       "          Prod_ID State  Agency_Yr  Agency_Life  Employ_Cnt  Max_Age  Min_Age  \\\n",
       "AgencyUID                                                                       \n",
       "1             BOP    IN       1998           22          56       87       36   \n",
       "2             BOP    IN       1970           50          14       89       32   \n",
       "3             BOP    IN       1970           50          14       89       32   \n",
       "\n",
       "           Prd_Ernd_Prem  3Yr_LossRatio  Prd_Incrd_Loss  Loss_Ratio  \n",
       "AgencyUID                                                            \n",
       "1                 570.36       0.285437            0.00     0.00000  \n",
       "2                2842.47       1.215365            0.00     0.00000  \n",
       "3                2868.84       0.438894         1381.46     0.48154  "
      ]
     },
     "execution_count": 20,
     "metadata": {},
     "output_type": "execute_result"
    }
   ],
   "source": [
    "TrainData.head(3)"
   ]
  },
  {
   "cell_type": "code",
   "execution_count": 21,
   "metadata": {},
   "outputs": [],
   "source": [
    "#features defined for Train Set\n",
    "TrainFeatures=TrainData.loc[:, 'Agency_Life':'3Yr_LossRatio']\n",
    "#predictor defined for Train Set\n",
    "TrainOutput=TrainData['Loss_Ratio']\n",
    "#features defined for Test Set\n",
    "TestFeatures=TestData.loc[:, 'Agency_Life':'3Yr_LossRatio']\n",
    "#predictor defined for Test Set\n",
    "TestOutput=TestData['Loss_Ratio']"
   ]
  },
  {
   "cell_type": "code",
   "execution_count": 23,
   "metadata": {},
   "outputs": [
    {
     "name": "stdout",
     "output_type": "stream",
     "text": [
      "Average Error: 1\n",
      "Total Error  : 245\n",
      "Col Samples  : 0\n",
      "Learn Rate   : 0\n",
      "Max Depth    : 14\n",
      "Alpha        : 3\n",
      "Estimators   : 1\n"
     ]
    }
   ],
   "source": [
    "#define early params\n",
    "AvgError = 0\n",
    "TotalError = 0\n",
    "AvgErrorHold = 10000\n",
    "TotalErrorHold = 10000\n",
    "colsampleshold = .03 \n",
    "learnrateshold = .1\n",
    "maxdepthshold = 10\n",
    "alphashold = 10\n",
    "estimatorshold = 5\n",
    "\n",
    "#set up lists for hyperparameter ranges\n",
    "colsamples = [x * 0.005 for x in range(3, 10)] #colsamplebytree.... .005,.01,.015,.02 up to  .1\n",
    "learnrates = [x * 0.005 for x in range(15, 25)]#learningrate.... .005, .01, .015, .02 up to .50\n",
    "maxdepths = [x * 1 for x in range(3, 18)] #maxdepth... 3,4,5,6 up to 100\n",
    "alphas = [x * 1 for x in range(3, 18)] #alpha... 1,2,3,4 up to 100\n",
    "estimators = [x * 1 for x in range(1, 10)] #n_estimators... 1,2,3,4 up to 100 \n",
    "\n",
    "\n",
    "#colsample_bytree = .03\n",
    "#learning_rate = 0.1x * 1 for x in range(3, 101)\n",
    "#max_depth = 10\n",
    "#alpha = 10\n",
    "#n_estimators = 5\n",
    "\n",
    "#brute-force loop for searching hyperparameter space\n",
    "for colsample in colsamples:\n",
    "    for learnrate in learnrates:\n",
    "        for maxdepth in maxdepths:\n",
    "            for alpha in alphas:\n",
    "                for estimator in estimators:\n",
    "                        #implement model\n",
    "                        Insur_LossRat_Predict = xgb.XGBRegressor(objective ='reg:squarederror', colsample_bytree = colsample, learning_rate = learnrate, max_depth = maxdepth, alpha = alpha, n_estimators = estimator)\n",
    "                        #train model\n",
    "                        Insur_LossRat_Predict.fit(TrainFeatures,TrainOutput)\n",
    "                        #test model\n",
    "                        Predictions = Insur_LossRat_Predict.predict(TestFeatures)\n",
    "                        #determine error on iteration\n",
    "                        TotalError=0\n",
    "                        for i in range(len(Predictions)):\n",
    "                            Error = abs(Predictions[i]-TestOutput.iloc[i])\n",
    "                            TotalError = TotalError+Error\n",
    "                            Denominator = len(Predictions)\n",
    "                            AvgError=TotalError/Denominator\n",
    "                        #compare to prior best error\n",
    "                        #save values in parent variable if superior\n",
    "                        if AvgError < AvgErrorHold:\n",
    "                            if TotalError < TotalErrorHold:\n",
    "                                AvgErrorHold = AvgError\n",
    "                                TotalErrorHold = TotalError\n",
    "                                colsampleshold = colsample\n",
    "                                learnrateshold = learnrate\n",
    "                                maxdepthshold = maxdepth\n",
    "                                alphashold = alpha \n",
    "                                estimatorshold = estimator\n",
    "#print best results\n",
    "print ('Average Error: %d' % AvgErrorHold)\n",
    "print ('Total Error  : %d' % TotalErrorHold)\n",
    "print ('Col Samples  : %d' % colsampleshold)\n",
    "print ('Learn Rate   : %d' % learnrateshold)\n",
    "print ('Max Depth    : %d' % maxdepthshold)\n",
    "print ('Alpha        : %d' % alphashold)\n",
    "print ('Estimators   : %d' % estimatorshold)\n",
    "                                \n",
    "                \n",
    "            \n",
    "    \n"
   ]
  },
  {
   "cell_type": "code",
   "execution_count": 17,
   "metadata": {},
   "outputs": [
    {
     "name": "stdout",
     "output_type": "stream",
     "text": [
      "[3, 4, 5, 6, 7, 8, 9, 10, 11, 12, 13, 14, 15, 16, 17]\n"
     ]
    }
   ],
   "source": []
  },
  {
   "cell_type": "code",
   "execution_count": null,
   "metadata": {},
   "outputs": [],
   "source": []
  },
  {
   "cell_type": "code",
   "execution_count": null,
   "metadata": {},
   "outputs": [],
   "source": []
  },
  {
   "cell_type": "code",
   "execution_count": null,
   "metadata": {},
   "outputs": [],
   "source": [
    "\n"
   ]
  },
  {
   "cell_type": "code",
   "execution_count": null,
   "metadata": {},
   "outputs": [],
   "source": []
  },
  {
   "cell_type": "code",
   "execution_count": null,
   "metadata": {},
   "outputs": [],
   "source": []
  }
 ],
 "metadata": {
  "kernelspec": {
   "display_name": "Python 3",
   "language": "python",
   "name": "python3"
  },
  "language_info": {
   "codemirror_mode": {
    "name": "ipython",
    "version": 3
   },
   "file_extension": ".py",
   "mimetype": "text/x-python",
   "name": "python",
   "nbconvert_exporter": "python",
   "pygments_lexer": "ipython3",
   "version": "3.7.3"
  }
 },
 "nbformat": 4,
 "nbformat_minor": 2
}
